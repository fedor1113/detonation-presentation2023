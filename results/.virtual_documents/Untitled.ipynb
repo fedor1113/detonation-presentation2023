import numpy as np
import scipy as sp
import pandas as pd
import matplotlib.pyplot as plt


df = pd.read_csv('weno5fm/u_res_n_1001.dat', skiprows=3, sep=' ', names=['x', 'u'])
x_an = np.array(list(map(float, df['x'].tolist())))
u_an = np.array(list(map(float, df['u'].tolist())))
u_an_f = sp.interpolate.interp1d(x_an, u_an)


min_an = min(f for p, f in zip(x_an, u_an) if p > 2000)


plt.plot(x_an, u_an_f(x_an))
plt.plot(x_an, u_an)
plt.savefig('period_1_limit_cycle' + '.svg', format='svg', transparent=True)
plt.show()


directory = 'weno5fm/'
nodes = [81, 101, 121, 151, 201, 301, 401, 451, 601, 801]  # , 801, 1001
files = ['u_res_n_' + str(n) + '.dat' for n in nodes]
files = [directory + f for f in files]
u_err = []
dxes = []
for f, n in zip(files, nodes):
    df = pd.read_csv(f, skiprows=3, sep=' ', names=['x', 'u'])
    x = np.array(list(map(float, df['x'].tolist())))
    u = np.array(list(map(float, df['u'].tolist())))
    # u_err.append(abs(1. - u[-1]))
    # u_err.append(0)
    # for p, f in zip(x, u):
    #     if p >= 2000:
    #         u_err[-1] = max(u_err[-1], abs(f - u_an_f(p)))
    u_err.append(abs(min(f for p, f in zip(x, u) if p > 2000) - min_an))
    dxes.append(10. / (n-1))
    # plt.plot(x, u, label=n)

plt.loglog(dxes, u_err, 'o-')
plt.loglog(dxes, 0.001 * np.array(dxes) ** 2., '--', label='O(dx^2)')
plt.loglog(dxes, np.array(dxes) ** 5., '--', label='O(dx^5)')
plt.loglog(dxes, 8 * np.array(dxes) ** 6., '--', label='O(dx^6)')
plt.grid(True, ls=':')
plt.title('График порядка аппроксимации u_s')  # : L∞ norm for the profile
plt.xlabel('Δx')
plt.ylabel('ε')
plt.legend()
plt.tight_layout()

plt.savefig('weno5fm_er' + '.svg', format='svg', transparent=True)
plt.show()


directory = 'weno5fm/'
nodes = [81, 101, 121, 151, 201, 301, 401, 451, 601, 801]  # , 801, 1001
files = ['u_res_n_' + str(n) + '.dat' for n in nodes]
files = [directory + f for f in files]
u_err = []
dxes = []
for f, n in zip(files, nodes):
    df = pd.read_csv(f, skiprows=3, sep=' ', names=['x', 'u'])
    x = np.array(list(map(float, df['x'].tolist())))
    u = np.array(list(map(float, df['u'].tolist())))
    # u_err.append(abs(1. - u[-1]))
    u_err.append(0)
    for p, f in zip(x, u):
        if p >= 2000:
            u_err[-1] = max(u_err[-1], abs(f - u_an_f(p)))
    dxes.append(10. / (n-1))
    # plt.plot(x, u, label=n)

plt.loglog(dxes, u_err, 'o-')
# plt.loglog(dxes, 0.008 * np.array(dxes) ** 1., '--', label='O(dx^1)')
plt.loglog(dxes, 0.3 * np.array(dxes) ** 2., '--', label='O(dx^2)')
# plt.loglog(dxes, np.array(dxes) ** 5., '--', label='O(dx^5)')
# plt.loglog(dxes, 8 * np.array(dxes) ** 6., '--', label='O(dx^6)')
plt.grid(True, ls=':')
plt.title('График порядка аппроксимации u_s')  # : L∞ norm for the profile
plt.xlabel('Δx')
plt.ylabel('ε')
plt.legend()
plt.tight_layout()

plt.savefig('weno5fm_er' + '.svg', format='svg', transparent=True)
plt.show()


import math


def find_nearest(array, value):
    idx = np.searchsorted(array, value, side="left")
    if (idx > 0 and (idx == len(array)
                     or math.fabs(value - array[idx-1]) < math.fabs(
                         value - array[idx]))):
        return idx-1
    else:
        return idx


directory = 'weno5fm/'
nodes = [81, 101, 121, 151, 201, 301, 401, 451, 601]  # , 801, 1001
files = ['u_res_n_' + str(n) + '.dat' for n in nodes]
files = [directory + f for f in files]
u_err = []
dxes = []
for f, n in zip(files, nodes):
    df = pd.read_csv(f, skiprows=3, sep=' ', names=['x', 'u'])
    x = np.array(list(map(float, df['x'].tolist())))
    u = np.array(list(map(float, df['u'].tolist())))
    # u_err.append(abs(1. - u[-1]))
    u_err.append(0)
    for p, f in zip(x, u):
        if p >= 2000:
            p_an_idx = find_nearest(x_an, p)
            u_err[-1] = max(u_err[-1], abs(f - u_an[p_an_idx]))
    dxes.append(10. / (n-1))
    # plt.plot(x, u, label=n)

plt.loglog(dxes, u_err, 'o-')
plt.loglog(dxes, np.array(dxes) ** 1., '--', label='O(dx^1)')
plt.loglog(dxes, np.array(dxes) ** 2., '--', label='O(dx^2)')
# plt.loglog(dxes, np.array(dxes) ** 5., '--', label='O(dx^5)')
# plt.loglog(dxes, 8 * np.array(dxes) ** 6., '--', label='O(dx^6)')
plt.grid(True, ls=':')
plt.title('График порядка аппроксимации u_s')  # : L∞ norm for the profile
plt.xlabel('Δx')
plt.ylabel('ε')
plt.legend()
plt.tight_layout()

plt.savefig('weno5fm_er' + '.svg', format='svg', transparent=True)
plt.show()


df = pd.read_csv('weno7sm/u_res_n_801.dat', skiprows=3, sep=' ', names=['x', 'u'])
x_an = np.array(list(map(float, df['x'].tolist())))
u_an = np.array(list(map(float, df['u'].tolist())))
u_an_f = sp.interpolate.interp1d(x_an, u_an)


min_an = min(f for p, f in zip(x_an, u_an) if p > 2000)


directory = 'weno7sm/'
nodes = [81, 101, 121, 151, 201, 301]
files = ['u_res_n_' + str(n) + '.dat' for n in nodes]
files = [directory + f for f in files]
u_err = []
dxes = []
for f, n in zip(files, nodes):
    df = pd.read_csv(f, skiprows=3, sep=' ', names=['x', 'u'])
    x = np.array(list(map(float, df['x'].tolist())))
    u = np.array(list(map(float, df['u'].tolist())))
    # u_err.append(abs(1. - u[-1]))
    u_err.append(0)
    for p, f in zip(x, u):
        if p >= 2000:
            u_err[-1] = max(u_err[-1], abs(f - u_an_f(p)))
    dxes.append(10. / (n-1))
    # plt.plot(x, u, label=n)

plt.loglog(dxes, u_err, 'o-')
plt.loglog(dxes, 0.075 * np.array(dxes) ** 1., '--', label='O(dx^1)')
plt.loglog(dxes, 0.6 * np.array(dxes) ** 2., '--', label='O(dx^2)')
# plt.loglog(dxes, 18. * np.array(dxes) ** 7., '--', label='O(dx^7)')
# plt.loglog(dxes, 150 * np.array(dxes) ** 8., '--', label='O(dx^8)')
plt.grid(True, ls=':')
plt.title('График порядка аппроксимации u_s')  # : L∞ norm for the profile
plt.xlabel('Δx')
plt.ylabel('ε')
plt.legend()
plt.tight_layout()

plt.savefig('weno7sm_err' + '.svg', format='svg', transparent=True)
plt.show()


directory = 'weno7sm/'
nodes = [81, 101, 121, 151, 201, 301]
files = ['u_res_n_' + str(n) + '.dat' for n in nodes]
files = [directory + f for f in files]
u_err = []
dxes = []
for f, n in zip(files, nodes):
    df = pd.read_csv(f, skiprows=3, sep=' ', names=['x', 'u'])
    x = np.array(list(map(float, df['x'].tolist())))
    u = np.array(list(map(float, df['u'].tolist())))
    # u_err.append(abs(1. - u[-1]))
    # u_err.append(0)
    # for p, f in zip(x, u):
    #     if p >= 2000:
    #         u_err[-1] = max(u_err[-1], abs(f - u_an_f(p)))
    u_err.append(abs(min(f for p, f in zip(x, u) if p > 2000) - min_an))
    dxes.append(10. / (n-1))
    # plt.plot(x, u, label=n)

plt.loglog(dxes, u_err, 'o-')
plt.loglog(dxes, np.array(dxes) ** 2., '--', label='O(dx^7)')
plt.loglog(dxes, 18. * np.array(dxes) ** 7., '--', label='O(dx^7)')
plt.loglog(dxes, 150 * np.array(dxes) ** 8., '--', label='O(dx^8)')
plt.grid(True, ls=':')
plt.title('График порядка аппроксимации u_s')  # : L∞ norm for the profile
plt.xlabel('Δx')
plt.ylabel('ε')
plt.legend()
plt.tight_layout()

plt.savefig('weno7sm_err' + '.svg', format='svg', transparent=True)
plt.show()
